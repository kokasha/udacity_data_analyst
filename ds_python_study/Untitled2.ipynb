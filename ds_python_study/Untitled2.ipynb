{
 "cells": [
  {
   "cell_type": "code",
   "execution_count": 1,
   "metadata": {},
   "outputs": [],
   "source": [
    "import pandas as pd"
   ]
  },
  {
   "cell_type": "code",
   "execution_count": 2,
   "metadata": {},
   "outputs": [],
   "source": [
    "s1 = pd.Series([1,2,3,4])"
   ]
  },
  {
   "cell_type": "code",
   "execution_count": 3,
   "metadata": {},
   "outputs": [
    {
     "data": {
      "text/plain": [
       "0    1\n",
       "1    2\n",
       "2    3\n",
       "3    4\n",
       "dtype: int64"
      ]
     },
     "execution_count": 3,
     "metadata": {},
     "output_type": "execute_result"
    }
   ],
   "source": [
    "s1"
   ]
  },
  {
   "cell_type": "code",
   "execution_count": 17,
   "metadata": {},
   "outputs": [
    {
     "name": "stdout",
     "output_type": "stream",
     "text": [
      "1\n",
      "1\n",
      "1\n"
     ]
    }
   ],
   "source": [
    "# Access Item using index\n",
    "print s1[0]\n",
    "\n",
    "# Access item using position\n",
    "print s1.iloc[0]\n",
    "\n",
    "# Access item using key(index)\n",
    "print s1.loc[0]"
   ]
  },
  {
   "cell_type": "code",
   "execution_count": 6,
   "metadata": {},
   "outputs": [],
   "source": [
    "s2 = pd.Series([5,6,7,8],index=[5,6,7,8])"
   ]
  },
  {
   "cell_type": "code",
   "execution_count": 7,
   "metadata": {},
   "outputs": [
    {
     "data": {
      "text/plain": [
       "5    5\n",
       "6    6\n",
       "7    7\n",
       "8    8\n",
       "dtype: int64"
      ]
     },
     "execution_count": 7,
     "metadata": {},
     "output_type": "execute_result"
    }
   ],
   "source": [
    "s2"
   ]
  },
  {
   "cell_type": "code",
   "execution_count": 19,
   "metadata": {},
   "outputs": [
    {
     "name": "stdout",
     "output_type": "stream",
     "text": [
      "5\n",
      "5\n",
      "5\n"
     ]
    }
   ],
   "source": [
    "# Access Item using index\n",
    "print s2[5]\n",
    "\n",
    "# Access item using position\n",
    "print s2.iloc[0]\n",
    "\n",
    "# Access item using key(index)\n",
    "print s2.loc[5]"
   ]
  },
  {
   "cell_type": "markdown",
   "metadata": {},
   "source": [
    " - in Panda Index is similar to key in Dictionaries\n",
    " - position is similar to index in a list"
   ]
  },
  {
   "cell_type": "markdown",
   "metadata": {},
   "source": [
    "## How to deal with missing data"
   ]
  },
  {
   "cell_type": "code",
   "execution_count": 20,
   "metadata": {},
   "outputs": [],
   "source": [
    "s1 = pd.Series([1, 2, 3, 4], index=['a', 'b', 'c', 'd'])\n",
    "s2 = pd.Series([10, 20, 30, 40], index=['c', 'd', 'e', 'f'])"
   ]
  },
  {
   "cell_type": "code",
   "execution_count": 21,
   "metadata": {},
   "outputs": [],
   "source": [
    "sum_s = s1+s2"
   ]
  },
  {
   "cell_type": "code",
   "execution_count": 22,
   "metadata": {},
   "outputs": [
    {
     "name": "stdout",
     "output_type": "stream",
     "text": [
      "a     NaN\n",
      "b     NaN\n",
      "c    13.0\n",
      "d    24.0\n",
      "e     NaN\n",
      "f     NaN\n",
      "dtype: float64\n"
     ]
    }
   ],
   "source": [
    "print(sum_s)"
   ]
  },
  {
   "cell_type": "code",
   "execution_count": 23,
   "metadata": {},
   "outputs": [],
   "source": [
    "# To remove the NA we can use dropna"
   ]
  },
  {
   "cell_type": "code",
   "execution_count": 27,
   "metadata": {},
   "outputs": [],
   "source": [
    "sum_s.dropna(inplace=True)"
   ]
  },
  {
   "cell_type": "code",
   "execution_count": 28,
   "metadata": {},
   "outputs": [
    {
     "data": {
      "text/plain": [
       "c    13.0\n",
       "d    24.0\n",
       "dtype: float64"
      ]
     },
     "execution_count": 28,
     "metadata": {},
     "output_type": "execute_result"
    }
   ],
   "source": [
    "sum_s"
   ]
  },
  {
   "cell_type": "code",
   "execution_count": 29,
   "metadata": {},
   "outputs": [],
   "source": [
    "## To fill missing values with an arbitary number we use"
   ]
  },
  {
   "cell_type": "code",
   "execution_count": 30,
   "metadata": {},
   "outputs": [
    {
     "name": "stdout",
     "output_type": "stream",
     "text": [
      "a     1.0\n",
      "b     2.0\n",
      "c    13.0\n",
      "d    24.0\n",
      "e    30.0\n",
      "f    40.0\n",
      "dtype: float64\n"
     ]
    }
   ],
   "source": [
    "s_sum = s1.add(s2,fill_value=0)\n",
    "print(s_sum)"
   ]
  },
  {
   "cell_type": "markdown",
   "metadata": {},
   "source": [
    "## Panda Apply"
   ]
  },
  {
   "cell_type": "code",
   "execution_count": 34,
   "metadata": {},
   "outputs": [],
   "source": [
    "names = pd.Series([\n",
    "    'Andre Agassi',\n",
    "    'Barry Bonds',\n",
    "    'Christopher Columbus',\n",
    "    'Daniel Defoe',\n",
    "    'Emilio Estevez',\n",
    "    'Fred Flintstone',\n",
    "    'Greta Garbo',\n",
    "    'Humbert Humbert',\n",
    "    'Ivan Ilych',\n",
    "    'James Joyce',\n",
    "    'Keira Knightley',\n",
    "    'Lois Lane',\n",
    "    'Mike Myers',\n",
    "    'Nick Nolte',\n",
    "    'Ozzy Osbourne',\n",
    "    'Pablo Picasso',\n",
    "    'Quirinus Quirrell',\n",
    "    'Rachael Ray',\n",
    "    'Susan Sarandon',\n",
    "    'Tina Turner',\n",
    "    'Ugueth Urbina',\n",
    "    'Vince Vaughn',\n",
    "    'Woodrow Wilson',\n",
    "    'Yoji Yamada',\n",
    "    'Zinedine Zidane'\n",
    "])\n",
    "\n",
    "def reverse_names(names):\n",
    "    '''\n",
    "    Fill in this function to return a new series where each name\n",
    "    in the input series has been transformed from the format\n",
    "    \"Firstname Lastname\" to \"Lastname, FirstName\".\n",
    "    \n",
    "    Try to use the Pandas apply() function rather than a loop.\n",
    "    '''\n",
    "    reverse_name_list = names.split(' ')\n",
    "    reverse_name = reverse_name_list[1] + ' ' +reverse_name_list[0]\n",
    "    return reverse_name"
   ]
  },
  {
   "cell_type": "code",
   "execution_count": 35,
   "metadata": {},
   "outputs": [],
   "source": [
    "name_reverse = pd.Series.apply(names,reverse_names)"
   ]
  },
  {
   "cell_type": "code",
   "execution_count": 36,
   "metadata": {},
   "outputs": [
    {
     "data": {
      "text/plain": [
       "0             Agassi Andre\n",
       "1              Bonds Barry\n",
       "2     Columbus Christopher\n",
       "3             Defoe Daniel\n",
       "4           Estevez Emilio\n",
       "5          Flintstone Fred\n",
       "6              Garbo Greta\n",
       "7          Humbert Humbert\n",
       "8               Ilych Ivan\n",
       "9              Joyce James\n",
       "10         Knightley Keira\n",
       "11               Lane Lois\n",
       "12              Myers Mike\n",
       "13              Nolte Nick\n",
       "14           Osbourne Ozzy\n",
       "15           Picasso Pablo\n",
       "16       Quirrell Quirinus\n",
       "17             Ray Rachael\n",
       "18          Sarandon Susan\n",
       "19             Turner Tina\n",
       "20           Urbina Ugueth\n",
       "21            Vaughn Vince\n",
       "22          Wilson Woodrow\n",
       "23             Yamada Yoji\n",
       "24         Zidane Zinedine\n",
       "dtype: object"
      ]
     },
     "execution_count": 36,
     "metadata": {},
     "output_type": "execute_result"
    }
   ],
   "source": [
    "name_reverse"
   ]
  },
  {
   "cell_type": "markdown",
   "metadata": {},
   "source": [
    "## Plotting in Pandas"
   ]
  },
  {
   "cell_type": "code",
   "execution_count": 43,
   "metadata": {},
   "outputs": [],
   "source": [
    "employment_data = pd.read_csv('employment_above_15.csv',index_col='Country')"
   ]
  },
  {
   "cell_type": "code",
   "execution_count": 44,
   "metadata": {},
   "outputs": [
    {
     "name": "stdout",
     "output_type": "stream",
     "text": [
      "                             1991       1992       1993       1994       1995  \\\n",
      "Country                                                                         \n",
      "Afghanistan             56.700001  56.500000  56.599998  56.200001  56.200001   \n",
      "Albania                 52.700001  52.299999  52.400002  52.700001  52.799999   \n",
      "Algeria                 39.400002  38.900002  39.400002  39.400002  38.099998   \n",
      "Angola                  75.800003  75.800003  75.500000  75.900002  75.800003   \n",
      "Argentina               53.599998  53.799999  53.700001  53.799999  53.500000   \n",
      "Armenia                 39.299999  38.200001  37.400002  37.400002  37.099998   \n",
      "Australia               57.200001  56.200001  55.900002  56.900002  58.400002   \n",
      "Austria                 54.200001  54.900002  54.700001  56.400002  56.700001   \n",
      "Azerbaijan              56.900002  56.799999  56.599998  56.200001  55.400002   \n",
      "Bahamas                 63.000000  61.299999  62.799999  62.700001  64.500000   \n",
      "Bahrain                 61.200001  61.400002  61.500000  61.799999  61.900002   \n",
      "Bangladesh              74.500000  72.500000  73.000000  71.800003  70.500000   \n",
      "Barbados                56.900002  53.700001  52.500000  54.900002  58.000000   \n",
      "Belarus                 59.200001  58.299999  57.400002  56.599998  55.700001   \n",
      "Belgium                 45.700001  46.099998  45.500000  45.299999  45.599998   \n",
      "Belize                  47.599998  49.200001  51.299999  52.299999  51.700001   \n",
      "Benin                   70.599998  72.099998  72.300003  72.500000  72.599998   \n",
      "Bhutan                  53.700001  52.500000  52.000000  51.000000  50.299999   \n",
      "Bolivia                 61.500000  61.000000  61.000000  60.900002  60.700001   \n",
      "Bosnia and Herzegovina  51.599998  50.099998  48.000000  47.599998  47.700001   \n",
      "Botswana                48.900002  48.000000  47.000000  45.299999  44.000000   \n",
      "Brazil                  56.099998  59.500000  60.099998  60.599998  61.099998   \n",
      "Brunei                  62.599998  62.799999  62.900002  63.099998  63.299999   \n",
      "Bulgaria                46.400002  48.900002  44.299999  44.200001  45.599998   \n",
      "Burkina Faso            80.699997  80.699997  80.699997  80.800003  80.900002   \n",
      "Burundi                 84.199997  84.300003  84.500000  84.699997  84.800003   \n",
      "Cambodia                78.000000  78.000000  78.300003  78.400002  77.599998   \n",
      "Cameroon                59.400002  59.299999  59.200001  59.099998  59.000000   \n",
      "Canada                  59.400002  58.000000  57.599998  58.000000  58.299999   \n",
      "Cape Verde              56.500000  56.599998  56.799999  56.700001  56.700001   \n",
      "...                           ...        ...        ...        ...        ...   \n",
      "Sri Lanka               52.000000  50.700001  49.700001  50.599998  49.500000   \n",
      "Sudan                   46.200001  45.900002  45.799999  46.400002  46.900002   \n",
      "Suriname                44.599998  42.599998  42.799999  43.200001  45.200001   \n",
      "Swaziland               54.200001  54.299999  54.299999  54.299999  55.900002   \n",
      "Sweden                  64.900002  61.799999  58.000000  57.200001  57.799999   \n",
      "Switzerland             67.699997  67.099998  66.500000  65.599998  65.699997   \n",
      "Syria                   46.799999  47.200001  47.599998  48.200001  48.900002   \n",
      "Taiwan                  56.900002  56.599998  56.900002  56.599998  56.200001   \n",
      "Tajikistan              54.299999  52.299999  50.500000  47.599998  45.700001   \n",
      "Tanzania                87.500000  87.199997  87.000000  86.699997  86.500000   \n",
      "Thailand                77.699997  77.099998  75.300003  73.699997  74.300003   \n",
      "Macedonia, FYR          37.599998  36.900002  35.900002  36.299999  36.400002   \n",
      "Togo                    65.199997  65.000000  64.500000  65.000000  64.900002   \n",
      "Trinidad and Tobago     45.000000  45.799999  46.700001  48.500000  49.900002   \n",
      "Tunisia                 40.700001  40.700001  40.700001  41.000000  41.000000   \n",
      "Turkey                  53.000000  52.000000  48.299999  50.799999  50.799999   \n",
      "Turkmenistan            56.099998  56.400002  56.700001  56.900002  56.900002   \n",
      "Uganda                  85.000000  84.800003  84.199997  83.400002  83.599998   \n",
      "Ukraine                 58.500000  57.799999  58.099998  58.400002  58.400002   \n",
      "United Arab Emirates    71.300003  71.599998  71.900002  72.599998  73.199997   \n",
      "United Kingdom          57.900002  56.500000  55.599998  55.900002  56.400002   \n",
      "United States           61.299999  61.099998  61.400002  62.200001  62.599998   \n",
      "Uruguay                 54.000000  55.299999  54.000000  55.299999  55.900002   \n",
      "Uzbekistan              54.500000  53.299999  52.900002  52.400002  52.200001   \n",
      "Venezuela               51.599998  52.799999  53.900002  53.299999  53.000000   \n",
      "Vietnam                 75.599998  75.599998  75.000000  75.500000  75.400002   \n",
      "West Bank and Gaza      29.299999  29.799999  30.400000  26.799999  32.599998   \n",
      "Yemen, Rep.             38.299999  38.200001  38.000000  39.400002  39.200001   \n",
      "Zambia                  57.000000  56.599998  56.200001  56.700001  57.299999   \n",
      "Zimbabwe                70.199997  69.800003  69.400002  70.599998  70.099998   \n",
      "\n",
      "                             1996       1997       1998       1999       2000  \\\n",
      "Country                                                                         \n",
      "Afghanistan             56.099998  56.200001  56.200001  56.099998  56.099998   \n",
      "Albania                 52.599998  52.400002  52.099998  52.099998  51.900002   \n",
      "Algeria                 38.900002  39.700001  39.500000  39.400002  38.599998   \n",
      "Angola                  75.900002  75.699997  75.599998  75.599998  75.500000   \n",
      "Argentina               54.400002  54.900002  55.000000  54.900002  55.500000   \n",
      "Armenia                 38.099998  37.400002  38.099998  37.200001  37.799999   \n",
      "Australia               58.200001  57.900002  58.299999  58.700001  59.400002   \n",
      "Austria                 55.799999  55.799999  55.599998  56.000000  56.099998   \n",
      "Azerbaijan              55.799999  56.599998  56.700001  57.000000  57.400002   \n",
      "Bahamas                 64.099998  65.199997  66.599998  66.699997  67.000000   \n",
      "Bahrain                 61.900002  61.599998  61.599998  61.599998  61.599998   \n",
      "Bangladesh              70.400002  69.900002  69.900002  69.300003  68.900002   \n",
      "Barbados                61.200001  61.400002  63.099998  64.400002  65.300003   \n",
      "Belarus                 55.200001  55.099998  54.000000  52.799999  53.000000   \n",
      "Belgium                 45.500000  45.799999  45.900002  47.299999  48.700001   \n",
      "Belize                  51.099998  52.099998  51.500000  52.700001  54.200001   \n",
      "Benin                   72.599998  72.500000  72.300003  72.199997  72.099998   \n",
      "Bhutan                  50.200001  50.099998  50.200001  50.400002  51.400002   \n",
      "Bolivia                 61.799999  67.599998  67.699997  67.699997  67.300003   \n",
      "Bosnia and Herzegovina  47.900002  47.000000  46.099998  45.299999  44.400002   \n",
      "Botswana                42.799999  45.700001  48.200001  48.900002  49.500000   \n",
      "Brazil                  60.400002  60.700001  60.500000  60.700001  61.200001   \n",
      "Brunei                  63.500000  63.700001  64.000000  64.300003  64.400002   \n",
      "Bulgaria                45.700001  44.599998  44.200001  42.000000  39.299999   \n",
      "Burkina Faso            81.000000  81.000000  81.099998  81.099998  81.099998   \n",
      "Burundi                 84.800003  84.900002  84.800003  84.699997  84.500000   \n",
      "Cambodia                76.599998  76.400002  77.300003  77.400002  77.599998   \n",
      "Cameroon                59.900002  60.000000  60.099998  60.099998  60.200001   \n",
      "Canada                  58.000000  58.500000  59.299999  60.200001  60.799999   \n",
      "Cape Verde              56.500000  56.299999  56.099998  55.900002  55.700001   \n",
      "...                           ...        ...        ...        ...        ...   \n",
      "Sri Lanka               50.500000  51.000000  55.000000  53.400002  53.700001   \n",
      "Sudan                   47.200001  47.400002  47.200001  47.099998  47.200001   \n",
      "Suriname                44.299999  44.599998  44.500000  43.099998  43.200001   \n",
      "Swaziland               55.200001  54.700001  54.299999  54.000000  53.599998   \n",
      "Sweden                  57.099998  56.400002  57.200001  58.299999  59.900002   \n",
      "Switzerland             65.699997  65.199997  66.000000  66.300003  66.099998   \n",
      "Syria                   45.099998  40.900002  43.099998  45.900002  48.200001   \n",
      "Taiwan                  55.500000  55.299999  55.000000  54.700001  54.200001   \n",
      "Tajikistan              42.700001  42.900002  43.799999  44.299999  45.400002   \n",
      "Tanzania                86.000000  86.099998  85.900002  85.699997  85.099998   \n",
      "Thailand                74.599998  74.699997  72.000000  71.199997  71.900002   \n",
      "Macedonia, FYR          35.099998  34.500000  35.099998  35.799999  35.900002   \n",
      "Togo                    64.800003  64.800003  64.599998  64.500000  64.400002   \n",
      "Trinidad and Tobago     51.299999  52.200001  52.799999  53.500000  54.000000   \n",
      "Tunisia                 40.900002  40.900002  40.700001  40.700001  40.700001   \n",
      "Turkey                  50.900002  49.700001  49.799999  49.200001  47.200001   \n",
      "Turkmenistan            56.200001  55.299999  57.599998  59.000000  59.400002   \n",
      "Uganda                  83.800003  84.000000  84.699997  84.400002  83.900002   \n",
      "Ukraine                 58.099998  58.099998  57.400002  49.599998  50.099998   \n",
      "United Arab Emirates    73.000000  72.900002  73.699997  73.900002  74.500000   \n",
      "United Kingdom          56.799999  57.599998  57.900002  58.400002  58.900002   \n",
      "United States           62.900002  63.400002  63.799999  64.000000  64.199997   \n",
      "Uruguay                 55.700001  55.700001  55.799999  56.000000  56.200001   \n",
      "Uzbekistan              52.500000  53.099998  53.599998  53.900002  54.200001   \n",
      "Venezuela               52.299999  53.700001  54.099998  52.700001  54.000000   \n",
      "Vietnam                 75.400002  73.400002  73.400002  73.300003  72.000000   \n",
      "West Bank and Gaza      29.500000  31.000000  33.400002  34.599998  33.599998   \n",
      "Yemen, Rep.             38.799999  39.099998  39.299999  38.200001  38.299999   \n",
      "Zambia                  59.000000  60.099998  61.299999  61.000000  60.700001   \n",
      "Zimbabwe                69.699997  68.900002  68.099998  67.300003  67.599998   \n",
      "\n",
      "                             2001       2002       2003       2004       2005  \\\n",
      "Country                                                                         \n",
      "Afghanistan             56.500000  56.400002  54.400002  56.000000  54.000000   \n",
      "Albania                 51.799999  51.799999  51.799999  51.700001  51.500000   \n",
      "Algeria                 40.400002  41.500000  42.799999  46.400002  48.000000   \n",
      "Angola                  75.500000  75.599998  75.500000  75.500000  75.599998   \n",
      "Argentina               55.599998  55.400002  57.299999  57.700001  58.099998   \n",
      "Armenia                 38.599998  39.299999  39.500000  38.900002  39.500000   \n",
      "Australia               59.200001  59.500000  59.900002  60.099998  61.200001   \n",
      "Austria                 56.099998  56.500000  56.700001  55.700001  56.200001   \n",
      "Azerbaijan              57.500000  57.500000  57.900002  59.400002  59.000000   \n",
      "Bahamas                 67.099998  65.599998  64.400002  64.900002  65.000000   \n",
      "Bahrain                 61.700001  61.500000  61.400002  61.200001  61.000000   \n",
      "Bangladesh              68.900002  68.900002  68.500000  68.300003  68.599998   \n",
      "Barbados                65.000000  64.599998  64.099998  65.599998  66.099998   \n",
      "Belarus                 53.000000  53.099998  53.299999  53.599998  53.700001   \n",
      "Belgium                 47.599998  47.500000  47.200001  48.099998  48.500000   \n",
      "Belize                  55.799999  55.599998  55.900002  56.099998  56.099998   \n",
      "Benin                   72.000000  72.000000  71.900002  71.800003  71.699997   \n",
      "Bhutan                  52.700001  53.599998  55.900002  57.400002  59.099998   \n",
      "Bolivia                 67.300003  67.800003  68.300003  68.900002  69.400002   \n",
      "Bosnia and Herzegovina  45.099998  44.200001  44.700001  43.099998  44.200001   \n",
      "Botswana                45.700001  44.000000  42.400002  40.200001  37.799999   \n",
      "Brazil                  61.500000  62.400002  62.000000  63.299999  63.200001   \n",
      "Brunei                  64.599998  64.500000  64.300003  64.199997  64.099998   \n",
      "Bulgaria                41.099998  41.799999  42.900002  44.299999  45.400002   \n",
      "Burkina Faso            81.199997  81.199997  81.199997  81.199997  81.199997   \n",
      "Burundi                 84.300003  84.000000  83.599998  83.400002  83.199997   \n",
      "Cambodia                79.800003  79.599998  79.300003  79.099998  78.900002   \n",
      "Cameroon                60.099998  60.000000  59.900002  59.900002  59.799999   \n",
      "Canada                  60.700001  61.299999  62.000000  62.200001  62.200001   \n",
      "Cape Verde              55.500000  55.299999  55.299999  55.299999  55.400002   \n",
      "...                           ...        ...        ...        ...        ...   \n",
      "Sri Lanka               53.400002  53.099998  53.099998  53.400002  53.500000   \n",
      "Sudan                   47.099998  47.099998  47.000000  47.000000  46.900002   \n",
      "Suriname                43.700001  43.500000  44.000000  44.299999  44.400002   \n",
      "Swaziland               53.099998  52.599998  52.200001  51.799999  51.400002   \n",
      "Sweden                  60.599998  60.400002  60.000000  59.200001  59.700001   \n",
      "Switzerland             66.599998  66.099998  65.300003  64.500000  64.099998   \n",
      "Syria                   45.799999  47.200001  43.799999  44.200001  44.500000   \n",
      "Taiwan                  53.500000  53.299999  53.700001  54.000000  54.299999   \n",
      "Tajikistan              47.400002  48.000000  49.400002  50.099998  50.500000   \n",
      "Tanzania                84.300003  83.300003  82.300003  81.000000  79.400002   \n",
      "Thailand                71.900002  72.300003  72.300003  72.400002  72.599998   \n",
      "Macedonia, FYR          37.299999  36.200001  33.900002  32.299999  33.200001   \n",
      "Togo                    64.199997  64.199997  64.199997  64.099998  64.000000   \n",
      "Trinidad and Tobago     54.900002  55.200001  56.200001  58.599998  60.000000   \n",
      "Tunisia                 40.900002  40.799999  41.099998  41.200001  41.200001   \n",
      "Turkey                  46.000000  44.799999  43.500000  44.000000  43.700001   \n",
      "Turkmenistan            59.500000  59.099998  59.099998  58.700001  58.400002   \n",
      "Uganda                  84.099998  83.599998  83.199997  83.199997  83.099998   \n",
      "Ukraine                 50.900002  51.700001  51.799999  52.200001  53.599998   \n",
      "United Arab Emirates    74.900002  75.300003  75.500000  75.400002  75.199997   \n",
      "United Kingdom          59.000000  59.000000  59.299999  59.400002  59.400002   \n",
      "United States           63.299999  62.299999  61.799999  61.799999  62.200001   \n",
      "Uruguay                 56.299999  56.500000  56.599998  56.700001  56.799999   \n",
      "Uzbekistan              54.500000  54.700001  55.000000  55.700001  56.099998   \n",
      "Venezuela               54.900002  53.500000  53.700001  55.200001  56.799999   \n",
      "Vietnam                 72.400002  72.400002  72.099998  71.599998  71.400002   \n",
      "West Bank and Gaza      29.400000  26.600000  29.400000  29.700001  31.400000   \n",
      "Yemen, Rep.             38.299999  38.400002  38.599998  38.700001  39.000000   \n",
      "Zambia                  60.700001  60.700001  60.700001  60.799999  60.799999   \n",
      "Zimbabwe                67.699997  67.599998  67.400002  67.400002  67.199997   \n",
      "\n",
      "                             2006       2007  \n",
      "Country                                       \n",
      "Afghanistan             56.000000  55.700001  \n",
      "Albania                 51.400002  51.400002  \n",
      "Algeria                 50.000000  50.500000  \n",
      "Angola                  75.500000  75.699997  \n",
      "Argentina               58.400002  58.400002  \n",
      "Armenia                 39.400002  40.099998  \n",
      "Australia               61.599998  61.500000  \n",
      "Austria                 57.099998  57.099998  \n",
      "Azerbaijan              59.299999  60.900002  \n",
      "Bahamas                 66.900002  66.599998  \n",
      "Bahrain                 60.599998  60.400002  \n",
      "Bangladesh              68.599998  68.099998  \n",
      "Barbados                66.400002  66.900002  \n",
      "Belarus                 53.700001  53.400002  \n",
      "Belgium                 48.200001  48.599998  \n",
      "Belize                  57.500000  56.799999  \n",
      "Benin                   71.599998  71.599998  \n",
      "Bhutan                  59.599998  58.400002  \n",
      "Bolivia                 70.099998  70.400002  \n",
      "Bosnia and Herzegovina  41.099998  41.200001  \n",
      "Botswana                45.500000  46.000000  \n",
      "Brazil                  64.000000  64.500000  \n",
      "Brunei                  64.099998  63.799999  \n",
      "Bulgaria                47.799999  47.299999  \n",
      "Burkina Faso            81.199997  81.300003  \n",
      "Burundi                 83.199997  83.199997  \n",
      "Cambodia                78.400002  78.900002  \n",
      "Cameroon                59.700001  59.099998  \n",
      "Canada                  62.500000  63.500000  \n",
      "Cape Verde              55.500000  55.900002  \n",
      "...                           ...        ...  \n",
      "Sri Lanka               54.299999  55.099998  \n",
      "Sudan                   47.000000  47.299999  \n",
      "Suriname                45.000000  44.700001  \n",
      "Swaziland               51.000000  50.900002  \n",
      "Sweden                  60.299999  60.700001  \n",
      "Switzerland             64.699997  64.300003  \n",
      "Syria                   44.799999  44.799999  \n",
      "Taiwan                  54.299999  54.500000  \n",
      "Tajikistan              51.200001  54.599998  \n",
      "Tanzania                78.099998  78.199997  \n",
      "Thailand                72.099998  72.000000  \n",
      "Macedonia, FYR          34.599998  34.900002  \n",
      "Togo                    64.000000  63.900002  \n",
      "Trinidad and Tobago     62.599998  61.500000  \n",
      "Tunisia                 41.400002  41.599998  \n",
      "Turkey                  43.500000  42.799999  \n",
      "Turkmenistan            58.200001  58.500000  \n",
      "Uganda                  83.099998  83.199997  \n",
      "Ukraine                 53.799999  54.400002  \n",
      "United Arab Emirates    75.000000  75.199997  \n",
      "United Kingdom          59.400002  59.299999  \n",
      "United States           62.599998  62.299999  \n",
      "Uruguay                 56.700001  57.500000  \n",
      "Uzbekistan              56.500000  57.500000  \n",
      "Venezuela               59.700001  59.900002  \n",
      "Vietnam                 71.199997  71.000000  \n",
      "West Bank and Gaza      31.600000  32.000000  \n",
      "Yemen, Rep.             39.099998  39.000000  \n",
      "Zambia                  60.799999  61.000000  \n",
      "Zimbabwe                66.900002  66.800003  \n",
      "\n",
      "[178 rows x 17 columns]\n"
     ]
    }
   ],
   "source": [
    "print(employment_data)"
   ]
  },
  {
   "cell_type": "code",
   "execution_count": 47,
   "metadata": {},
   "outputs": [],
   "source": [
    "employment_aus = employment_data.loc['Australia']"
   ]
  },
  {
   "cell_type": "code",
   "execution_count": 48,
   "metadata": {},
   "outputs": [
    {
     "data": {
      "text/plain": [
       "pandas.core.series.Series"
      ]
     },
     "execution_count": 48,
     "metadata": {},
     "output_type": "execute_result"
    }
   ],
   "source": [
    "type(employment_aus)"
   ]
  },
  {
   "cell_type": "code",
   "execution_count": 56,
   "metadata": {},
   "outputs": [
    {
     "name": "stdout",
     "output_type": "stream",
     "text": [
      "1991    57.200001\n",
      "1992    56.200001\n",
      "1993    55.900002\n",
      "1994    56.900002\n",
      "1995    58.400002\n",
      "1996    58.200001\n",
      "1997    57.900002\n",
      "1998    58.299999\n",
      "1999    58.700001\n",
      "2000    59.400002\n",
      "2001    59.200001\n",
      "2002    59.500000\n",
      "2003    59.900002\n",
      "2004    60.099998\n",
      "2005    61.200001\n",
      "2006    61.599998\n",
      "2007    61.500000\n",
      "Name: Australia, dtype: float64\n"
     ]
    }
   ],
   "source": [
    "print employment_aus"
   ]
  },
  {
   "cell_type": "code",
   "execution_count": 50,
   "metadata": {},
   "outputs": [],
   "source": [
    "import matplotlib as pt"
   ]
  },
  {
   "cell_type": "code",
   "execution_count": 57,
   "metadata": {},
   "outputs": [],
   "source": [
    "%matplotlib inline\n"
   ]
  },
  {
   "cell_type": "code",
   "execution_count": 62,
   "metadata": {},
   "outputs": [
    {
     "data": {
      "text/plain": [
       "<matplotlib.axes._subplots.AxesSubplot at 0x1142ced10>"
      ]
     },
     "execution_count": 62,
     "metadata": {},
     "output_type": "execute_result"
    },
    {
     "data": {
      "image/png": "[encoded data removed]",
      "text/plain": [
       "<Figure size 576x576 with 1 Axes>"
      ]
     },
     "metadata": {},
     "output_type": "display_data"
    }
   ],
   "source": [
    "employment_aus.plot(figsize=(8,8),use_index=True)"
   ]
  }
 ],
 "metadata": {
  "kernelspec": {
   "display_name": "Python [conda env:py2]",
   "language": "python",
   "name": "conda-env-py2-py"
  },
  "language_info": {
   "codemirror_mode": {
    "name": "ipython",
    "version": 2
   },
   "file_extension": ".py",
   "mimetype": "text/x-python",
   "name": "python",
   "nbconvert_exporter": "python",
   "pygments_lexer": "ipython2",
   "version": "2.7.15"
  }
 },
 "nbformat": 4,
 "nbformat_minor": 2
}
